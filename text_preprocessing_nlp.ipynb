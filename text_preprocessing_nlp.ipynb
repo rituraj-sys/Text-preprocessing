{
  "metadata": {
    "kernelspec": {
      "language": "python",
      "display_name": "Python 3",
      "name": "python3"
    },
    "language_info": {
      "name": "python",
      "version": "3.10.12",
      "mimetype": "text/x-python",
      "codemirror_mode": {
        "name": "ipython",
        "version": 3
      },
      "pygments_lexer": "ipython3",
      "nbconvert_exporter": "python",
      "file_extension": ".py"
    },
    "kaggle": {
      "accelerator": "none",
      "dataSources": [
        {
          "sourceId": 320111,
          "sourceType": "datasetVersion",
          "datasetId": 134715
        }
      ],
      "dockerImageVersionId": 30579,
      "isInternetEnabled": true,
      "language": "python",
      "sourceType": "notebook",
      "isGpuEnabled": false
    },
    "colab": {
      "provenance": []
    }
  },
  "nbformat_minor": 0,
  "nbformat": 4,
  "cells": [
    {
      "cell_type": "code",
      "source": [
        "# This Python 3 environment comes with many helpful analytics libraries installed\n",
        "# It is defined by the kaggle/python Docker image: https://github.com/kaggle/docker-python\n",
        "# For example, here's several helpful packages to load\n",
        "\n",
        "import numpy as np # linear algebra\n",
        "import pandas as pd # data processing, CSV file I/O (e.g. pd.read_csv)\n",
        "\n",
        "# Input data files are available in the read-only \"../input/\" directory\n",
        "# For example, running this (by clicking run or pressing Shift+Enter) will list all files under the input directory\n",
        "\n",
        "import os\n",
        "for dirname, _, filenames in os.walk('/kaggle/input'):\n",
        "    for filename in filenames:\n",
        "        print(os.path.join(dirname, filename))\n",
        "\n",
        "# You can write up to 20GB to the current directory (/kaggle/working/) that gets preserved as output when you create a version using \"Save & Run All\"\n",
        "# You can also write temporary files to /kaggle/temp/, but they won't be saved outside of the current session"
      ],
      "metadata": {
        "_uuid": "8f2839f25d086af736a60e9eeb907d3b93b6e0e5",
        "_cell_guid": "b1076dfc-b9ad-4769-8c92-a6c4dae69d19",
        "execution": {
          "iopub.status.busy": "2023-11-16T18:12:21.197384Z",
          "iopub.execute_input": "2023-11-16T18:12:21.198118Z",
          "iopub.status.idle": "2023-11-16T18:12:21.211174Z",
          "shell.execute_reply.started": "2023-11-16T18:12:21.198069Z",
          "shell.execute_reply": "2023-11-16T18:12:21.209418Z"
        },
        "trusted": true,
        "id": "T8aOdVUDX7X6",
        "outputId": "786ea223-ae1d-4896-a1ba-573a3da86123"
      },
      "execution_count": null,
      "outputs": [
        {
          "name": "stdout",
          "text": "/kaggle/input/imdb-dataset-of-50k-movie-reviews/IMDB Dataset.csv\n",
          "output_type": "stream"
        }
      ]
    },
    {
      "cell_type": "code",
      "source": [
        "df = pd.read_csv('/kaggle/input/imdb-dataset-of-50k-movie-reviews/IMDB Dataset.csv')\n",
        "df.head()"
      ],
      "metadata": {
        "execution": {
          "iopub.status.busy": "2023-11-16T18:12:21.213809Z",
          "iopub.execute_input": "2023-11-16T18:12:21.214581Z",
          "iopub.status.idle": "2023-11-16T18:12:21.991103Z",
          "shell.execute_reply.started": "2023-11-16T18:12:21.214543Z",
          "shell.execute_reply": "2023-11-16T18:12:21.990060Z"
        },
        "trusted": true,
        "id": "ZeeA7kPYX7X_",
        "outputId": "d7589cbf-c962-4c5c-c8ce-087a03cd2022"
      },
      "execution_count": null,
      "outputs": [
        {
          "execution_count": 124,
          "output_type": "execute_result",
          "data": {
            "text/plain": "                                              review sentiment\n0  One of the other reviewers has mentioned that ...  positive\n1  A wonderful little production. <br /><br />The...  positive\n2  I thought this was a wonderful way to spend ti...  positive\n3  Basically there's a family where a little boy ...  negative\n4  Petter Mattei's \"Love in the Time of Money\" is...  positive",
            "text/html": "<div>\n<style scoped>\n    .dataframe tbody tr th:only-of-type {\n        vertical-align: middle;\n    }\n\n    .dataframe tbody tr th {\n        vertical-align: top;\n    }\n\n    .dataframe thead th {\n        text-align: right;\n    }\n</style>\n<table border=\"1\" class=\"dataframe\">\n  <thead>\n    <tr style=\"text-align: right;\">\n      <th></th>\n      <th>review</th>\n      <th>sentiment</th>\n    </tr>\n  </thead>\n  <tbody>\n    <tr>\n      <th>0</th>\n      <td>One of the other reviewers has mentioned that ...</td>\n      <td>positive</td>\n    </tr>\n    <tr>\n      <th>1</th>\n      <td>A wonderful little production. &lt;br /&gt;&lt;br /&gt;The...</td>\n      <td>positive</td>\n    </tr>\n    <tr>\n      <th>2</th>\n      <td>I thought this was a wonderful way to spend ti...</td>\n      <td>positive</td>\n    </tr>\n    <tr>\n      <th>3</th>\n      <td>Basically there's a family where a little boy ...</td>\n      <td>negative</td>\n    </tr>\n    <tr>\n      <th>4</th>\n      <td>Petter Mattei's \"Love in the Time of Money\" is...</td>\n      <td>positive</td>\n    </tr>\n  </tbody>\n</table>\n</div>"
          },
          "metadata": {}
        }
      ]
    },
    {
      "cell_type": "markdown",
      "source": [
        "#1. LOWERCASING"
      ],
      "metadata": {
        "id": "S6tf581DX7YA"
      }
    },
    {
      "cell_type": "code",
      "source": [
        "df['review'][3].lower()"
      ],
      "metadata": {
        "execution": {
          "iopub.status.busy": "2023-11-16T18:12:21.992396Z",
          "iopub.execute_input": "2023-11-16T18:12:21.992741Z",
          "iopub.status.idle": "2023-11-16T18:12:22.000155Z",
          "shell.execute_reply.started": "2023-11-16T18:12:21.992712Z",
          "shell.execute_reply": "2023-11-16T18:12:21.998847Z"
        },
        "trusted": true,
        "id": "OjzTqoNiX7YB",
        "outputId": "1981711c-43d2-4b8d-8521-efb578131d54"
      },
      "execution_count": null,
      "outputs": [
        {
          "execution_count": 125,
          "output_type": "execute_result",
          "data": {
            "text/plain": "\"basically there's a family where a little boy (jake) thinks there's a zombie in his closet & his parents are fighting all the time.<br /><br />this movie is slower than a soap opera... and suddenly, jake decides to become rambo and kill the zombie.<br /><br />ok, first of all when you're going to make a film you must decide if its a thriller or a drama! as a drama the movie is watchable. parents are divorcing & arguing like in real life. and then we have jake with his closet which totally ruins all the film! i expected to see a boogeyman similar movie, and instead i watched a drama with some meaningless thriller spots.<br /><br />3 out of 10 just for the well playing parents & descent dialogs. as for the shots with jake: just ignore them.\""
          },
          "metadata": {}
        }
      ]
    },
    {
      "cell_type": "code",
      "source": [
        "df['review'] = df['review'].str.lower()"
      ],
      "metadata": {
        "execution": {
          "iopub.status.busy": "2023-11-16T18:12:22.003238Z",
          "iopub.execute_input": "2023-11-16T18:12:22.003629Z",
          "iopub.status.idle": "2023-11-16T18:12:22.230640Z",
          "shell.execute_reply.started": "2023-11-16T18:12:22.003581Z",
          "shell.execute_reply": "2023-11-16T18:12:22.229418Z"
        },
        "trusted": true,
        "id": "n-8MIzzrX7YC"
      },
      "execution_count": null,
      "outputs": []
    },
    {
      "cell_type": "code",
      "source": [
        "df.shape"
      ],
      "metadata": {
        "execution": {
          "iopub.status.busy": "2023-11-16T18:12:22.232501Z",
          "iopub.execute_input": "2023-11-16T18:12:22.233326Z",
          "iopub.status.idle": "2023-11-16T18:12:22.241210Z",
          "shell.execute_reply.started": "2023-11-16T18:12:22.233283Z",
          "shell.execute_reply": "2023-11-16T18:12:22.240085Z"
        },
        "trusted": true,
        "id": "hGw7KkYGX7YD",
        "outputId": "007b6cd9-9a4c-4382-e080-4c2530954843"
      },
      "execution_count": null,
      "outputs": [
        {
          "execution_count": 127,
          "output_type": "execute_result",
          "data": {
            "text/plain": "(50000, 2)"
          },
          "metadata": {}
        }
      ]
    },
    {
      "cell_type": "markdown",
      "source": [
        "#2. REMOVE HTML TAGS"
      ],
      "metadata": {
        "id": "d9ezrZn2X7YD"
      }
    },
    {
      "cell_type": "code",
      "source": [
        "import re\n",
        "\n",
        "def remove_tags(text):\n",
        "    tx = re.compile('<.*?>')\n",
        "    return tx.sub(r'',text)"
      ],
      "metadata": {
        "execution": {
          "iopub.status.busy": "2023-11-16T18:12:22.242875Z",
          "iopub.execute_input": "2023-11-16T18:12:22.243242Z",
          "iopub.status.idle": "2023-11-16T18:12:22.255818Z",
          "shell.execute_reply.started": "2023-11-16T18:12:22.243211Z",
          "shell.execute_reply": "2023-11-16T18:12:22.254402Z"
        },
        "trusted": true,
        "id": "8zwoL-fNX7YE"
      },
      "execution_count": null,
      "outputs": []
    },
    {
      "cell_type": "code",
      "source": [
        "df['review'] = df['review'].apply(remove_tags)"
      ],
      "metadata": {
        "execution": {
          "iopub.status.busy": "2023-11-16T18:12:22.257462Z",
          "iopub.execute_input": "2023-11-16T18:12:22.257824Z",
          "iopub.status.idle": "2023-11-16T18:12:22.531927Z",
          "shell.execute_reply.started": "2023-11-16T18:12:22.257786Z",
          "shell.execute_reply": "2023-11-16T18:12:22.530826Z"
        },
        "trusted": true,
        "id": "Tu2V4bF6X7YF"
      },
      "execution_count": null,
      "outputs": []
    },
    {
      "cell_type": "code",
      "source": [
        "df['review'][3]"
      ],
      "metadata": {
        "execution": {
          "iopub.status.busy": "2023-11-16T18:12:22.534173Z",
          "iopub.execute_input": "2023-11-16T18:12:22.534523Z",
          "iopub.status.idle": "2023-11-16T18:12:22.544104Z",
          "shell.execute_reply.started": "2023-11-16T18:12:22.534494Z",
          "shell.execute_reply": "2023-11-16T18:12:22.542758Z"
        },
        "trusted": true,
        "id": "5coYZ0gAX7YF",
        "outputId": "0bc7f663-2c92-45c3-cf35-e932485300cd"
      },
      "execution_count": null,
      "outputs": [
        {
          "execution_count": 130,
          "output_type": "execute_result",
          "data": {
            "text/plain": "\"basically there's a family where a little boy (jake) thinks there's a zombie in his closet & his parents are fighting all the time.this movie is slower than a soap opera... and suddenly, jake decides to become rambo and kill the zombie.ok, first of all when you're going to make a film you must decide if its a thriller or a drama! as a drama the movie is watchable. parents are divorcing & arguing like in real life. and then we have jake with his closet which totally ruins all the film! i expected to see a boogeyman similar movie, and instead i watched a drama with some meaningless thriller spots.3 out of 10 just for the well playing parents & descent dialogs. as for the shots with jake: just ignore them.\""
          },
          "metadata": {}
        }
      ]
    },
    {
      "cell_type": "code",
      "source": [
        "df.shape"
      ],
      "metadata": {
        "execution": {
          "iopub.status.busy": "2023-11-16T18:12:22.545497Z",
          "iopub.execute_input": "2023-11-16T18:12:22.545873Z",
          "iopub.status.idle": "2023-11-16T18:12:22.557901Z",
          "shell.execute_reply.started": "2023-11-16T18:12:22.545836Z",
          "shell.execute_reply": "2023-11-16T18:12:22.556444Z"
        },
        "trusted": true,
        "id": "4wwXkVVfX7YG",
        "outputId": "99e3c2d4-9b09-4bed-ef32-f3104dbc0ef3"
      },
      "execution_count": null,
      "outputs": [
        {
          "execution_count": 131,
          "output_type": "execute_result",
          "data": {
            "text/plain": "(50000, 2)"
          },
          "metadata": {}
        }
      ]
    },
    {
      "cell_type": "markdown",
      "source": [
        "#3. REMOVE_URL>>"
      ],
      "metadata": {
        "id": "Wyoq6sSvX7YG"
      }
    },
    {
      "cell_type": "code",
      "source": [
        "def remove_url(texts):\n",
        "    rm = re.compile(r'https?://\\S+|www\\.\\S+')\n",
        "    return rm.sub(r'',texts)"
      ],
      "metadata": {
        "execution": {
          "iopub.status.busy": "2023-11-16T18:12:22.563979Z",
          "iopub.execute_input": "2023-11-16T18:12:22.565553Z",
          "iopub.status.idle": "2023-11-16T18:12:22.573608Z",
          "shell.execute_reply.started": "2023-11-16T18:12:22.565413Z",
          "shell.execute_reply": "2023-11-16T18:12:22.572360Z"
        },
        "trusted": true,
        "id": "8FVTZxVOX7YG"
      },
      "execution_count": null,
      "outputs": []
    },
    {
      "cell_type": "code",
      "source": [
        "text11 = 'check this url www.google.com and www.rituraj_pandey16181618.com'"
      ],
      "metadata": {
        "execution": {
          "iopub.status.busy": "2023-11-16T18:12:22.574994Z",
          "iopub.execute_input": "2023-11-16T18:12:22.575383Z",
          "iopub.status.idle": "2023-11-16T18:12:22.581967Z",
          "shell.execute_reply.started": "2023-11-16T18:12:22.575353Z",
          "shell.execute_reply": "2023-11-16T18:12:22.581160Z"
        },
        "trusted": true,
        "id": "7YMLmI5XX7YH"
      },
      "execution_count": null,
      "outputs": []
    },
    {
      "cell_type": "code",
      "source": [
        "remove_url(text11)"
      ],
      "metadata": {
        "execution": {
          "iopub.status.busy": "2023-11-16T18:12:22.583098Z",
          "iopub.execute_input": "2023-11-16T18:12:22.583418Z",
          "iopub.status.idle": "2023-11-16T18:12:22.599578Z",
          "shell.execute_reply.started": "2023-11-16T18:12:22.583391Z",
          "shell.execute_reply": "2023-11-16T18:12:22.597672Z"
        },
        "trusted": true,
        "id": "okdEWLGtX7YH",
        "outputId": "7a796887-2522-4ad9-bf9c-e1b8449a7239"
      },
      "execution_count": null,
      "outputs": [
        {
          "execution_count": 134,
          "output_type": "execute_result",
          "data": {
            "text/plain": "'check this url  and '"
          },
          "metadata": {}
        }
      ]
    },
    {
      "cell_type": "markdown",
      "source": [
        "#4 REM0VE PUNCTUATIONS>>"
      ],
      "metadata": {
        "id": "mmHnmKRfX7YH"
      }
    },
    {
      "cell_type": "code",
      "source": [
        "import string\n",
        "punc = string.punctuation"
      ],
      "metadata": {
        "execution": {
          "iopub.status.busy": "2023-11-16T18:12:22.602748Z",
          "iopub.execute_input": "2023-11-16T18:12:22.603368Z",
          "iopub.status.idle": "2023-11-16T18:12:22.609594Z",
          "shell.execute_reply.started": "2023-11-16T18:12:22.603323Z",
          "shell.execute_reply": "2023-11-16T18:12:22.608261Z"
        },
        "trusted": true,
        "id": "-2SEpAfSX7YH"
      },
      "execution_count": null,
      "outputs": []
    },
    {
      "cell_type": "code",
      "source": [
        "def remove_punc(text4):\n",
        "    return text4.translate(str.maketrans('','',punc))"
      ],
      "metadata": {
        "execution": {
          "iopub.status.busy": "2023-11-16T18:12:22.611284Z",
          "iopub.execute_input": "2023-11-16T18:12:22.612086Z",
          "iopub.status.idle": "2023-11-16T18:12:22.621480Z",
          "shell.execute_reply.started": "2023-11-16T18:12:22.612047Z",
          "shell.execute_reply": "2023-11-16T18:12:22.620370Z"
        },
        "trusted": true,
        "id": "PMDXYTvbX7YH"
      },
      "execution_count": null,
      "outputs": []
    },
    {
      "cell_type": "code",
      "source": [
        "texts = 'hello, my < name\" is! ,#Rituraj;'"
      ],
      "metadata": {
        "execution": {
          "iopub.status.busy": "2023-11-16T18:12:22.623772Z",
          "iopub.execute_input": "2023-11-16T18:12:22.624209Z",
          "iopub.status.idle": "2023-11-16T18:12:22.634182Z",
          "shell.execute_reply.started": "2023-11-16T18:12:22.624175Z",
          "shell.execute_reply": "2023-11-16T18:12:22.632815Z"
        },
        "trusted": true,
        "id": "XVEApEfZX7YH"
      },
      "execution_count": null,
      "outputs": []
    },
    {
      "cell_type": "code",
      "source": [
        "remove_punc(texts)"
      ],
      "metadata": {
        "execution": {
          "iopub.status.busy": "2023-11-16T18:12:22.635748Z",
          "iopub.execute_input": "2023-11-16T18:12:22.636247Z",
          "iopub.status.idle": "2023-11-16T18:12:22.648399Z",
          "shell.execute_reply.started": "2023-11-16T18:12:22.636207Z",
          "shell.execute_reply": "2023-11-16T18:12:22.647483Z"
        },
        "trusted": true,
        "id": "JJ9sDnmYX7YI",
        "outputId": "7448a561-31fa-434a-99c1-4f5d669538e1"
      },
      "execution_count": null,
      "outputs": [
        {
          "execution_count": 138,
          "output_type": "execute_result",
          "data": {
            "text/plain": "'hello my  name is Rituraj'"
          },
          "metadata": {}
        }
      ]
    },
    {
      "cell_type": "code",
      "source": [
        "##TWITTER HATE SPEECH DATASET>>\n",
        "\n",
        "import numpy as np # linear algebra\n",
        "import pandas as pd # data processing, CSV file I/O (e.g. pd.read_csv)\n",
        "\n",
        "import os\n",
        "for dirname, _, filenames in os.walk('/kaggle/input'):\n",
        "    for filename in filenames:\n",
        "        print(os.path.join(dirname, filename))"
      ],
      "metadata": {
        "execution": {
          "iopub.status.busy": "2023-11-16T18:12:22.650157Z",
          "iopub.execute_input": "2023-11-16T18:12:22.650534Z",
          "iopub.status.idle": "2023-11-16T18:12:22.663894Z",
          "shell.execute_reply.started": "2023-11-16T18:12:22.650503Z",
          "shell.execute_reply": "2023-11-16T18:12:22.662731Z"
        },
        "trusted": true,
        "id": "6_PLF7uTX7YI",
        "outputId": "321f8f9b-a450-4306-8c24-f84901076d1d"
      },
      "execution_count": null,
      "outputs": [
        {
          "name": "stdout",
          "text": "/kaggle/input/imdb-dataset-of-50k-movie-reviews/IMDB Dataset.csv\n",
          "output_type": "stream"
        }
      ]
    },
    {
      "cell_type": "code",
      "source": [
        "df1 = pd.read_csv('/kaggle/input/imdb-dataset-of-50k-movie-reviews/IMDB Dataset.csv')\n",
        "df.head(4)"
      ],
      "metadata": {
        "execution": {
          "iopub.status.busy": "2023-11-16T18:12:22.665661Z",
          "iopub.execute_input": "2023-11-16T18:12:22.666535Z",
          "iopub.status.idle": "2023-11-16T18:12:23.480142Z",
          "shell.execute_reply.started": "2023-11-16T18:12:22.666490Z",
          "shell.execute_reply": "2023-11-16T18:12:23.478890Z"
        },
        "trusted": true,
        "id": "0-zT_IYjX7YI",
        "outputId": "92f383e3-0e28-4d2f-c621-a4ba4f4d3350"
      },
      "execution_count": null,
      "outputs": [
        {
          "execution_count": 140,
          "output_type": "execute_result",
          "data": {
            "text/plain": "                                              review sentiment\n0  one of the other reviewers has mentioned that ...  positive\n1  a wonderful little production. the filming tec...  positive\n2  i thought this was a wonderful way to spend ti...  positive\n3  basically there's a family where a little boy ...  negative",
            "text/html": "<div>\n<style scoped>\n    .dataframe tbody tr th:only-of-type {\n        vertical-align: middle;\n    }\n\n    .dataframe tbody tr th {\n        vertical-align: top;\n    }\n\n    .dataframe thead th {\n        text-align: right;\n    }\n</style>\n<table border=\"1\" class=\"dataframe\">\n  <thead>\n    <tr style=\"text-align: right;\">\n      <th></th>\n      <th>review</th>\n      <th>sentiment</th>\n    </tr>\n  </thead>\n  <tbody>\n    <tr>\n      <th>0</th>\n      <td>one of the other reviewers has mentioned that ...</td>\n      <td>positive</td>\n    </tr>\n    <tr>\n      <th>1</th>\n      <td>a wonderful little production. the filming tec...</td>\n      <td>positive</td>\n    </tr>\n    <tr>\n      <th>2</th>\n      <td>i thought this was a wonderful way to spend ti...</td>\n      <td>positive</td>\n    </tr>\n    <tr>\n      <th>3</th>\n      <td>basically there's a family where a little boy ...</td>\n      <td>negative</td>\n    </tr>\n  </tbody>\n</table>\n</div>"
          },
          "metadata": {}
        }
      ]
    },
    {
      "cell_type": "code",
      "source": [
        "df1['review'] = df1['review'].apply(remove_punc)\n",
        "df1['review']"
      ],
      "metadata": {
        "execution": {
          "iopub.status.busy": "2023-11-16T18:12:23.481935Z",
          "iopub.execute_input": "2023-11-16T18:12:23.482405Z",
          "iopub.status.idle": "2023-11-16T18:12:24.977862Z",
          "shell.execute_reply.started": "2023-11-16T18:12:23.482372Z",
          "shell.execute_reply": "2023-11-16T18:12:24.976272Z"
        },
        "trusted": true,
        "id": "AECTx1YjX7YI",
        "outputId": "5c4b2602-8d16-496c-e59f-8e4768f75d1a"
      },
      "execution_count": null,
      "outputs": [
        {
          "execution_count": 141,
          "output_type": "execute_result",
          "data": {
            "text/plain": "0        One of the other reviewers has mentioned that ...\n1        A wonderful little production br br The filmin...\n2        I thought this was a wonderful way to spend ti...\n3        Basically theres a family where a little boy J...\n4        Petter Matteis Love in the Time of Money is a ...\n                               ...                        \n49995    I thought this movie did a down right good job...\n49996    Bad plot bad dialogue bad acting idiotic direc...\n49997    I am a Catholic taught in parochial elementary...\n49998    Im going to have to disagree with the previous...\n49999    No one expects the Star Trek movies to be high...\nName: review, Length: 50000, dtype: object"
          },
          "metadata": {}
        }
      ]
    },
    {
      "cell_type": "markdown",
      "source": [
        "##5. SPELL CHECKER>>"
      ],
      "metadata": {
        "id": "S5lrV4E0X7YI"
      }
    },
    {
      "cell_type": "code",
      "source": [
        "from textblob import TextBlob"
      ],
      "metadata": {
        "execution": {
          "iopub.status.busy": "2023-11-16T18:12:24.979468Z",
          "iopub.execute_input": "2023-11-16T18:12:24.979942Z",
          "iopub.status.idle": "2023-11-16T18:12:24.985990Z",
          "shell.execute_reply.started": "2023-11-16T18:12:24.979897Z",
          "shell.execute_reply": "2023-11-16T18:12:24.984453Z"
        },
        "trusted": true,
        "id": "fuQJCgLrX7YJ"
      },
      "execution_count": null,
      "outputs": []
    },
    {
      "cell_type": "code",
      "source": [
        "text5 = 'the sun its plaanet aand sume other havenly bodies together make the solar system'"
      ],
      "metadata": {
        "execution": {
          "iopub.status.busy": "2023-11-16T18:12:24.987608Z",
          "iopub.execute_input": "2023-11-16T18:12:24.988115Z",
          "iopub.status.idle": "2023-11-16T18:12:25.008525Z",
          "shell.execute_reply.started": "2023-11-16T18:12:24.988076Z",
          "shell.execute_reply": "2023-11-16T18:12:25.007036Z"
        },
        "trusted": true,
        "id": "WiwdK3tsX7YJ"
      },
      "execution_count": null,
      "outputs": []
    },
    {
      "cell_type": "code",
      "source": [
        "xy = TextBlob(text5)\n",
        "xy.correct()"
      ],
      "metadata": {
        "execution": {
          "iopub.status.busy": "2023-11-16T18:12:25.011043Z",
          "iopub.execute_input": "2023-11-16T18:12:25.011596Z",
          "iopub.status.idle": "2023-11-16T18:12:25.032074Z",
          "shell.execute_reply.started": "2023-11-16T18:12:25.011545Z",
          "shell.execute_reply": "2023-11-16T18:12:25.030946Z"
        },
        "trusted": true,
        "id": "0WFsxIefX7YJ",
        "outputId": "4bddb225-5746-4dad-dfa5-13dec435a0a6"
      },
      "execution_count": null,
      "outputs": [
        {
          "execution_count": 144,
          "output_type": "execute_result",
          "data": {
            "text/plain": "TextBlob(\"the sun its planet and some other heavenly bodies together make the solar system\")"
          },
          "metadata": {}
        }
      ]
    },
    {
      "cell_type": "markdown",
      "source": [
        "#6. STOPWORDS"
      ],
      "metadata": {
        "id": "Vu7xc7tuX7YJ"
      }
    },
    {
      "cell_type": "code",
      "source": [
        "from nltk.corpus import stopwords\n",
        "stopwords.words('english')"
      ],
      "metadata": {
        "execution": {
          "iopub.status.busy": "2023-11-16T18:12:25.033653Z",
          "iopub.execute_input": "2023-11-16T18:12:25.034068Z",
          "iopub.status.idle": "2023-11-16T18:12:25.055148Z",
          "shell.execute_reply.started": "2023-11-16T18:12:25.033984Z",
          "shell.execute_reply": "2023-11-16T18:12:25.053680Z"
        },
        "trusted": true,
        "id": "07Dgm77ZX7YJ",
        "outputId": "16f2dd16-f0b6-44b8-9b1e-f7ee615247d1"
      },
      "execution_count": null,
      "outputs": [
        {
          "execution_count": 145,
          "output_type": "execute_result",
          "data": {
            "text/plain": "['i',\n 'me',\n 'my',\n 'myself',\n 'we',\n 'our',\n 'ours',\n 'ourselves',\n 'you',\n \"you're\",\n \"you've\",\n \"you'll\",\n \"you'd\",\n 'your',\n 'yours',\n 'yourself',\n 'yourselves',\n 'he',\n 'him',\n 'his',\n 'himself',\n 'she',\n \"she's\",\n 'her',\n 'hers',\n 'herself',\n 'it',\n \"it's\",\n 'its',\n 'itself',\n 'they',\n 'them',\n 'their',\n 'theirs',\n 'themselves',\n 'what',\n 'which',\n 'who',\n 'whom',\n 'this',\n 'that',\n \"that'll\",\n 'these',\n 'those',\n 'am',\n 'is',\n 'are',\n 'was',\n 'were',\n 'be',\n 'been',\n 'being',\n 'have',\n 'has',\n 'had',\n 'having',\n 'do',\n 'does',\n 'did',\n 'doing',\n 'a',\n 'an',\n 'the',\n 'and',\n 'but',\n 'if',\n 'or',\n 'because',\n 'as',\n 'until',\n 'while',\n 'of',\n 'at',\n 'by',\n 'for',\n 'with',\n 'about',\n 'against',\n 'between',\n 'into',\n 'through',\n 'during',\n 'before',\n 'after',\n 'above',\n 'below',\n 'to',\n 'from',\n 'up',\n 'down',\n 'in',\n 'out',\n 'on',\n 'off',\n 'over',\n 'under',\n 'again',\n 'further',\n 'then',\n 'once',\n 'here',\n 'there',\n 'when',\n 'where',\n 'why',\n 'how',\n 'all',\n 'any',\n 'both',\n 'each',\n 'few',\n 'more',\n 'most',\n 'other',\n 'some',\n 'such',\n 'no',\n 'nor',\n 'not',\n 'only',\n 'own',\n 'same',\n 'so',\n 'than',\n 'too',\n 'very',\n 's',\n 't',\n 'can',\n 'will',\n 'just',\n 'don',\n \"don't\",\n 'should',\n \"should've\",\n 'now',\n 'd',\n 'll',\n 'm',\n 'o',\n 're',\n 've',\n 'y',\n 'ain',\n 'aren',\n \"aren't\",\n 'couldn',\n \"couldn't\",\n 'didn',\n \"didn't\",\n 'doesn',\n \"doesn't\",\n 'hadn',\n \"hadn't\",\n 'hasn',\n \"hasn't\",\n 'haven',\n \"haven't\",\n 'isn',\n \"isn't\",\n 'ma',\n 'mightn',\n \"mightn't\",\n 'mustn',\n \"mustn't\",\n 'needn',\n \"needn't\",\n 'shan',\n \"shan't\",\n 'shouldn',\n \"shouldn't\",\n 'wasn',\n \"wasn't\",\n 'weren',\n \"weren't\",\n 'won',\n \"won't\",\n 'wouldn',\n \"wouldn't\"]"
          },
          "metadata": {}
        }
      ]
    },
    {
      "cell_type": "code",
      "source": [
        "def stop_word(text15):\n",
        "    new = []\n",
        "    for i in text15.split():\n",
        "        if i in stopwords.words('english'):\n",
        "            new.append('')\n",
        "        else:\n",
        "            new.append(i)\n",
        "    return ' '.join(new)"
      ],
      "metadata": {
        "execution": {
          "iopub.status.busy": "2023-11-16T18:12:25.057059Z",
          "iopub.execute_input": "2023-11-16T18:12:25.057432Z",
          "iopub.status.idle": "2023-11-16T18:12:25.065907Z",
          "shell.execute_reply.started": "2023-11-16T18:12:25.057403Z",
          "shell.execute_reply": "2023-11-16T18:12:25.064860Z"
        },
        "trusted": true,
        "id": "0LrcBjpvX7YJ"
      },
      "execution_count": null,
      "outputs": []
    },
    {
      "cell_type": "code",
      "source": [
        "txt = 'my name is Rituraj Pandey'\n",
        "stop_word(txt)"
      ],
      "metadata": {
        "execution": {
          "iopub.status.busy": "2023-11-16T18:12:25.067178Z",
          "iopub.execute_input": "2023-11-16T18:12:25.067520Z",
          "iopub.status.idle": "2023-11-16T18:12:25.084260Z",
          "shell.execute_reply.started": "2023-11-16T18:12:25.067491Z",
          "shell.execute_reply": "2023-11-16T18:12:25.083097Z"
        },
        "trusted": true,
        "id": "soPyjU6vX7YJ",
        "outputId": "81139705-448c-4451-bdc6-3d269cbd2cd5"
      },
      "execution_count": null,
      "outputs": [
        {
          "execution_count": 147,
          "output_type": "execute_result",
          "data": {
            "text/plain": "' name  Rituraj Pandey'"
          },
          "metadata": {}
        }
      ]
    },
    {
      "cell_type": "code",
      "source": [
        "#df1['review'] = df1['review'].apply(stop_word)"
      ],
      "metadata": {
        "execution": {
          "iopub.status.busy": "2023-11-16T18:12:25.086229Z",
          "iopub.execute_input": "2023-11-16T18:12:25.087370Z",
          "iopub.status.idle": "2023-11-16T18:12:25.095708Z",
          "shell.execute_reply.started": "2023-11-16T18:12:25.087219Z",
          "shell.execute_reply": "2023-11-16T18:12:25.093941Z"
        },
        "trusted": true,
        "id": "hGckApaaX7YJ"
      },
      "execution_count": null,
      "outputs": []
    },
    {
      "cell_type": "markdown",
      "source": [
        "#7. EMOJI HANDLING>>"
      ],
      "metadata": {
        "id": "zPGmUqQvX7YJ"
      }
    },
    {
      "cell_type": "code",
      "source": [
        "import emoji\n",
        "emoji.demojize(\"This new song is 🔥! I can't stop listening to it\")"
      ],
      "metadata": {
        "execution": {
          "iopub.status.busy": "2023-11-16T18:12:25.098163Z",
          "iopub.execute_input": "2023-11-16T18:12:25.099069Z",
          "iopub.status.idle": "2023-11-16T18:12:25.115330Z",
          "shell.execute_reply.started": "2023-11-16T18:12:25.099026Z",
          "shell.execute_reply": "2023-11-16T18:12:25.113528Z"
        },
        "trusted": true,
        "id": "QpmELs8uX7YK",
        "outputId": "e3a2b03f-4118-4d46-f09d-fbfbb74a78c2"
      },
      "execution_count": null,
      "outputs": [
        {
          "execution_count": 149,
          "output_type": "execute_result",
          "data": {
            "text/plain": "\"This new song is :fire:! I can't stop listening to it\""
          },
          "metadata": {}
        }
      ]
    },
    {
      "cell_type": "markdown",
      "source": [
        "#8. TOKENIZATION>>"
      ],
      "metadata": {
        "id": "Z2WXTKPzX7YK"
      }
    },
    {
      "cell_type": "code",
      "source": [
        "sent1 = \"hello!, I am a PH.D scholar\"\n",
        "sent2 = \"my email is abc@gmail.com\""
      ],
      "metadata": {
        "execution": {
          "iopub.status.busy": "2023-11-16T18:12:25.124265Z",
          "iopub.execute_input": "2023-11-16T18:12:25.125044Z",
          "iopub.status.idle": "2023-11-16T18:12:25.132734Z",
          "shell.execute_reply.started": "2023-11-16T18:12:25.124976Z",
          "shell.execute_reply": "2023-11-16T18:12:25.131706Z"
        },
        "trusted": true,
        "id": "frBHuebkX7YK"
      },
      "execution_count": null,
      "outputs": []
    },
    {
      "cell_type": "code",
      "source": [
        "from nltk.tokenize import word_tokenize,sent_tokenize"
      ],
      "metadata": {
        "execution": {
          "iopub.status.busy": "2023-11-16T18:12:25.134454Z",
          "iopub.execute_input": "2023-11-16T18:12:25.134921Z",
          "iopub.status.idle": "2023-11-16T18:12:25.149239Z",
          "shell.execute_reply.started": "2023-11-16T18:12:25.134884Z",
          "shell.execute_reply": "2023-11-16T18:12:25.147441Z"
        },
        "trusted": true,
        "id": "B0fWyVZJX7YK"
      },
      "execution_count": null,
      "outputs": []
    },
    {
      "cell_type": "code",
      "source": [
        "word_tokenize(sent1)"
      ],
      "metadata": {
        "execution": {
          "iopub.status.busy": "2023-11-16T18:12:25.151194Z",
          "iopub.execute_input": "2023-11-16T18:12:25.151677Z",
          "iopub.status.idle": "2023-11-16T18:12:25.170913Z",
          "shell.execute_reply.started": "2023-11-16T18:12:25.151631Z",
          "shell.execute_reply": "2023-11-16T18:12:25.169417Z"
        },
        "trusted": true,
        "id": "-bTksAbhX7YK",
        "outputId": "fad2948c-1f97-4425-9609-c05bb4b8b0d2"
      },
      "execution_count": null,
      "outputs": [
        {
          "execution_count": 152,
          "output_type": "execute_result",
          "data": {
            "text/plain": "['hello', '!', ',', 'I', 'am', 'a', 'PH.D', 'scholar']"
          },
          "metadata": {}
        }
      ]
    },
    {
      "cell_type": "code",
      "source": [
        "word_tokenize(sent2)"
      ],
      "metadata": {
        "execution": {
          "iopub.status.busy": "2023-11-16T18:12:25.172859Z",
          "iopub.execute_input": "2023-11-16T18:12:25.173548Z",
          "iopub.status.idle": "2023-11-16T18:12:25.192353Z",
          "shell.execute_reply.started": "2023-11-16T18:12:25.173511Z",
          "shell.execute_reply": "2023-11-16T18:12:25.191041Z"
        },
        "trusted": true,
        "id": "UiV1goZuX7YK",
        "outputId": "d5d30eb0-b115-445e-aeb8-4ab05b0c5d6f"
      },
      "execution_count": null,
      "outputs": [
        {
          "execution_count": 153,
          "output_type": "execute_result",
          "data": {
            "text/plain": "['my', 'email', 'is', 'abc', '@', 'gmail.com']"
          },
          "metadata": {}
        }
      ]
    },
    {
      "cell_type": "code",
      "source": [
        "import spacy\n",
        "\n",
        "nlp = spacy.load('en_core_web_sm')\n",
        "\n",
        "s1 = nlp(sent1)\n",
        "s2 = nlp(sent2)"
      ],
      "metadata": {
        "execution": {
          "iopub.status.busy": "2023-11-16T18:12:25.194131Z",
          "iopub.execute_input": "2023-11-16T18:12:25.194950Z",
          "iopub.status.idle": "2023-11-16T18:12:26.511931Z",
          "shell.execute_reply.started": "2023-11-16T18:12:25.194904Z",
          "shell.execute_reply": "2023-11-16T18:12:26.510474Z"
        },
        "trusted": true,
        "id": "6uaFGISTX7YP"
      },
      "execution_count": null,
      "outputs": []
    },
    {
      "cell_type": "code",
      "source": [
        "for token in s1:\n",
        "    print(token)"
      ],
      "metadata": {
        "execution": {
          "iopub.status.busy": "2023-11-16T18:12:26.513976Z",
          "iopub.execute_input": "2023-11-16T18:12:26.514424Z",
          "iopub.status.idle": "2023-11-16T18:12:26.520354Z",
          "shell.execute_reply.started": "2023-11-16T18:12:26.514381Z",
          "shell.execute_reply": "2023-11-16T18:12:26.518976Z"
        },
        "trusted": true,
        "id": "gG9wyqGoX7YP",
        "outputId": "7d650f45-0d73-475c-e1e5-ccfedcdece68"
      },
      "execution_count": null,
      "outputs": [
        {
          "name": "stdout",
          "text": "hello\n!\n,\nI\nam\na\nPH.D\nscholar\n",
          "output_type": "stream"
        }
      ]
    },
    {
      "cell_type": "markdown",
      "source": [
        "In most cases spacy is better than nltk in tokenization"
      ],
      "metadata": {
        "id": "EYrO1oF4X7YP"
      }
    },
    {
      "cell_type": "code",
      "source": [
        "for token in s2:\n",
        "    print(token)"
      ],
      "metadata": {
        "execution": {
          "iopub.status.busy": "2023-11-16T18:12:26.522258Z",
          "iopub.execute_input": "2023-11-16T18:12:26.522724Z",
          "iopub.status.idle": "2023-11-16T18:12:26.534284Z",
          "shell.execute_reply.started": "2023-11-16T18:12:26.522684Z",
          "shell.execute_reply": "2023-11-16T18:12:26.533208Z"
        },
        "trusted": true,
        "id": "0xKHbPmqX7YP",
        "outputId": "7358dbae-2957-4576-fa7e-decaecd9a35a"
      },
      "execution_count": null,
      "outputs": [
        {
          "name": "stdout",
          "text": "my\nemail\nis\nabc@gmail.com\n",
          "output_type": "stream"
        }
      ]
    },
    {
      "cell_type": "markdown",
      "source": [
        "#9. STEMMING>>"
      ],
      "metadata": {
        "id": "LUc7MxltX7YP"
      }
    },
    {
      "cell_type": "code",
      "source": [
        "from nltk.stem.porter import PorterStemmer\n",
        "ps = PorterStemmer()\n",
        "def stem_word(tx):\n",
        "    return ' '.join([ps.stem(i) for i in tx.split()])"
      ],
      "metadata": {
        "execution": {
          "iopub.status.busy": "2023-11-16T18:12:26.536149Z",
          "iopub.execute_input": "2023-11-16T18:12:26.536809Z",
          "iopub.status.idle": "2023-11-16T18:12:26.546657Z",
          "shell.execute_reply.started": "2023-11-16T18:12:26.536777Z",
          "shell.execute_reply": "2023-11-16T18:12:26.545430Z"
        },
        "trusted": true,
        "id": "TJ786ktNX7YP"
      },
      "execution_count": null,
      "outputs": []
    },
    {
      "cell_type": "code",
      "source": [
        "w = 'walk walked walking'\n",
        "stem_word(w)"
      ],
      "metadata": {
        "execution": {
          "iopub.status.busy": "2023-11-16T18:12:26.548844Z",
          "iopub.execute_input": "2023-11-16T18:12:26.549311Z",
          "iopub.status.idle": "2023-11-16T18:12:26.564449Z",
          "shell.execute_reply.started": "2023-11-16T18:12:26.549266Z",
          "shell.execute_reply": "2023-11-16T18:12:26.563050Z"
        },
        "trusted": true,
        "id": "v2t4kwjpX7YQ",
        "outputId": "3392755d-8eba-4f16-a9a0-e34ca435bb05"
      },
      "execution_count": null,
      "outputs": [
        {
          "execution_count": 158,
          "output_type": "execute_result",
          "data": {
            "text/plain": "'walk walk walk'"
          },
          "metadata": {}
        }
      ]
    },
    {
      "cell_type": "code",
      "source": [
        "w1 = 'stored store storing'\n",
        "stem_word(w1)"
      ],
      "metadata": {
        "execution": {
          "iopub.status.busy": "2023-11-16T18:12:26.566788Z",
          "iopub.execute_input": "2023-11-16T18:12:26.567278Z",
          "iopub.status.idle": "2023-11-16T18:12:26.581607Z",
          "shell.execute_reply.started": "2023-11-16T18:12:26.567235Z",
          "shell.execute_reply": "2023-11-16T18:12:26.580409Z"
        },
        "trusted": true,
        "id": "Rj3VaSzFX7YQ",
        "outputId": "0ff2801d-2532-4ee4-b88a-ade2473ab5e8"
      },
      "execution_count": null,
      "outputs": [
        {
          "execution_count": 159,
          "output_type": "execute_result",
          "data": {
            "text/plain": "'store store store'"
          },
          "metadata": {}
        }
      ]
    },
    {
      "cell_type": "code",
      "source": [
        "w2 = 'probably'  #Due to give undefineed word as O/p, Lemmatization is introduced\n",
        "stem_word(w2)"
      ],
      "metadata": {
        "execution": {
          "iopub.status.busy": "2023-11-16T18:12:26.583139Z",
          "iopub.execute_input": "2023-11-16T18:12:26.583659Z",
          "iopub.status.idle": "2023-11-16T18:12:26.596204Z",
          "shell.execute_reply.started": "2023-11-16T18:12:26.583619Z",
          "shell.execute_reply": "2023-11-16T18:12:26.595202Z"
        },
        "trusted": true,
        "id": "_aZxR9MGX7YQ",
        "outputId": "ad6b86a4-45cd-42cf-802a-21caf5d04e4d"
      },
      "execution_count": null,
      "outputs": [
        {
          "execution_count": 160,
          "output_type": "execute_result",
          "data": {
            "text/plain": "'probabl'"
          },
          "metadata": {}
        }
      ]
    },
    {
      "cell_type": "markdown",
      "source": [
        "#LEMMATIZATION"
      ],
      "metadata": {
        "id": "PXbGtDj6gysP"
      }
    },
    {
      "cell_type": "code",
      "source": [
        "sent = \"he is playing game while sleeping and noone is trying to stop him, I have subscribed your youtube channel to get each video notification!\""
      ],
      "metadata": {
        "execution": {
          "iopub.status.busy": "2023-11-16T18:12:26.597507Z",
          "iopub.execute_input": "2023-11-16T18:12:26.597905Z",
          "iopub.status.idle": "2023-11-16T18:12:26.608915Z",
          "shell.execute_reply.started": "2023-11-16T18:12:26.597873Z",
          "shell.execute_reply": "2023-11-16T18:12:26.607955Z"
        },
        "trusted": true,
        "id": "hdXmoeRMX7YQ"
      },
      "execution_count": null,
      "outputs": []
    },
    {
      "cell_type": "code",
      "source": [
        "import string\n",
        "import nltk\n",
        "pu = string.punctuation"
      ],
      "metadata": {
        "execution": {
          "iopub.status.busy": "2023-11-16T18:12:26.610777Z",
          "iopub.execute_input": "2023-11-16T18:12:26.611243Z",
          "iopub.status.idle": "2023-11-16T18:12:26.624555Z",
          "shell.execute_reply.started": "2023-11-16T18:12:26.611203Z",
          "shell.execute_reply": "2023-11-16T18:12:26.623447Z"
        },
        "trusted": true,
        "id": "oJ9gl_AKX7YQ"
      },
      "execution_count": null,
      "outputs": []
    },
    {
      "cell_type": "code",
      "source": [
        "import nltk\n",
        "from nltk import download\n",
        "from nltk.stem import WordNetLemmatizer\n",
        "nltk.download('punkt')\n",
        "lemma = WordNetLemmatizer()\n",
        "token = nltk.word_tokenize(sent)\n"
      ],
      "metadata": {
        "execution": {
          "iopub.status.busy": "2023-11-16T18:12:26.625911Z",
          "iopub.execute_input": "2023-11-16T18:12:26.626514Z",
          "iopub.status.idle": "2023-11-16T18:12:26.638815Z",
          "shell.execute_reply.started": "2023-11-16T18:12:26.626480Z",
          "shell.execute_reply": "2023-11-16T18:12:26.637531Z"
        },
        "trusted": true,
        "colab": {
          "base_uri": "https://localhost:8080/"
        },
        "id": "OppWf_CzX7YQ",
        "outputId": "f05e2bab-9653-45d9-85a5-cc0fb74c00a6"
      },
      "execution_count": null,
      "outputs": [
        {
          "output_type": "stream",
          "name": "stderr",
          "text": [
            "[nltk_data] Downloading package punkt to /root/nltk_data...\n",
            "[nltk_data]   Unzipping tokenizers/punkt.zip.\n"
          ]
        }
      ]
    },
    {
      "cell_type": "code",
      "source": [
        "for word in token:\n",
        "    if word in pu:\n",
        "        token.remove(word)"
      ],
      "metadata": {
        "execution": {
          "iopub.status.busy": "2023-11-16T18:12:26.640917Z",
          "iopub.execute_input": "2023-11-16T18:12:26.641451Z",
          "iopub.status.idle": "2023-11-16T18:12:26.656598Z",
          "shell.execute_reply.started": "2023-11-16T18:12:26.641364Z",
          "shell.execute_reply": "2023-11-16T18:12:26.655506Z"
        },
        "trusted": true,
        "id": "NpPiamp2X7YQ"
      },
      "execution_count": null,
      "outputs": []
    },
    {
      "cell_type": "code",
      "source": [
        "# from nltk import download\n",
        "# download()\n",
        "nltk.download('wordnet')"
      ],
      "metadata": {
        "execution": {
          "iopub.status.busy": "2023-11-16T18:12:26.657811Z",
          "iopub.execute_input": "2023-11-16T18:12:26.658383Z",
          "iopub.status.idle": "2023-11-16T18:12:26.671937Z",
          "shell.execute_reply.started": "2023-11-16T18:12:26.658346Z",
          "shell.execute_reply": "2023-11-16T18:12:26.671057Z"
        },
        "trusted": true,
        "colab": {
          "base_uri": "https://localhost:8080/"
        },
        "id": "rpI3AIl1X7YQ",
        "outputId": "e4be4b02-2c78-4c25-fee5-0845be5fbb81"
      },
      "execution_count": null,
      "outputs": [
        {
          "output_type": "stream",
          "name": "stderr",
          "text": [
            "[nltk_data] Downloading package wordnet to /root/nltk_data...\n"
          ]
        },
        {
          "output_type": "execute_result",
          "data": {
            "text/plain": [
              "True"
            ]
          },
          "metadata": {},
          "execution_count": 11
        }
      ]
    },
    {
      "cell_type": "code",
      "source": [
        "print(\"{0:20}{1:20}\".format('word','Lemma'))\n",
        "for i in token:\n",
        "    print(\"{0:20}{1:20}\".format(i,lemma.lemmatize(i, pos = 'v')))"
      ],
      "metadata": {
        "execution": {
          "iopub.status.busy": "2023-11-16T18:14:32.682136Z",
          "iopub.execute_input": "2023-11-16T18:14:32.682714Z",
          "iopub.status.idle": "2023-11-16T18:14:32.859394Z",
          "shell.execute_reply.started": "2023-11-16T18:14:32.682673Z",
          "shell.execute_reply": "2023-11-16T18:14:32.857412Z"
        },
        "trusted": true,
        "colab": {
          "base_uri": "https://localhost:8080/"
        },
        "id": "VdyhLkJ0X7YR",
        "outputId": "cc1a9ae8-5f48-405a-fb6e-2b85176034e8"
      },
      "execution_count": null,
      "outputs": [
        {
          "output_type": "stream",
          "name": "stdout",
          "text": [
            "word                Lemma               \n",
            "he                  he                  \n",
            "is                  be                  \n",
            "playing             play                \n",
            "game                game                \n",
            "while               while               \n",
            "sleeping            sleep               \n",
            "and                 and                 \n",
            "noone               noone               \n",
            "is                  be                  \n",
            "trying              try                 \n",
            "to                  to                  \n",
            "stop                stop                \n",
            "him                 him                 \n",
            "I                   I                   \n",
            "have                have                \n",
            "subscribed          subscribe           \n",
            "your                your                \n",
            "youtube             youtube             \n",
            "channel             channel             \n",
            "to                  to                  \n",
            "get                 get                 \n",
            "each                each                \n",
            "video               video               \n",
            "notification        notification        \n"
          ]
        }
      ]
    },
    {
      "cell_type": "code",
      "source": [],
      "metadata": {
        "id": "-Go4UaauX7YR"
      },
      "execution_count": null,
      "outputs": []
    }
  ]
}